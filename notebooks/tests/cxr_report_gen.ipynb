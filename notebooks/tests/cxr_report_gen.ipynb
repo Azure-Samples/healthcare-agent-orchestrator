{
 "cells": [
  {
   "cell_type": "markdown",
   "metadata": {},
   "source": [
    "# Test CXR Report Gen Plugin\n",
    "\n",
    "This Jupyter notebook demonstrate how to test the cxr_report_gen.py plugin. Running this notebook allows the code to be tested without deployment."
   ]
  },
  {
   "cell_type": "code",
   "execution_count": null,
   "metadata": {},
   "outputs": [],
   "source": [
    "import os\n",
    "import sys\n",
    "\n",
    "CUR_DIR = os.path.abspath(\"\")\n",
    "ROOT_DIR = os.path.dirname(os.path.dirname(CUR_DIR))\n",
    "SRC_DIR = os.path.join(ROOT_DIR, 'src')\n",
    "\n",
    "sys.path.append(SRC_DIR)\n",
    "print(f\"Added {SRC_DIR} to sys.path\")"
   ]
  },
  {
   "cell_type": "code",
   "execution_count": null,
   "metadata": {},
   "outputs": [],
   "source": [
    "from config import setup_logging\n",
    "from dotenv import load_dotenv\n",
    "\n",
    "setup_logging()\n",
    "load_dotenv(os.path.join(SRC_DIR, '.env'))"
   ]
  },
  {
   "cell_type": "code",
   "execution_count": null,
   "metadata": {},
   "outputs": [],
   "source": [
    "from azure.identity import DefaultAzureCredential\n",
    "from azure.storage.blob.aio import BlobServiceClient\n",
    "\n",
    "from data_models.data_access import DataAccess\n",
    "\n",
    "# Set up service authentication\n",
    "credential = DefaultAzureCredential(\n",
    "    managed_identity_client_id=os.getenv(\"AZURE_CLIENT_ID\")\n",
    ")\n",
    "\n",
    "# Set up blob service client\n",
    "blob_service_client = BlobServiceClient(\n",
    "    account_url=os.getenv(\"APP_BLOB_STORAGE_ENDPOINT\"),\n",
    "    credential=credential,\n",
    ")\n",
    "data_access = DataAccess(blob_service_client)"
   ]
  },
  {
   "cell_type": "code",
   "execution_count": null,
   "metadata": {},
   "outputs": [],
   "source": [
    "from config import load_agent_config\n",
    "from data_models.chat_context import ChatContext\n",
    "from data_models.plugin_configuration import PluginConfiguration\n",
    "from scenarios.default.tools.cxr_report_gen import create_plugin\n",
    "from semantic_kernel import Kernel\n",
    "from semantic_kernel.connectors.ai.open_ai.services.azure_chat_completion import AzureChatCompletion\n",
    "\n",
    "\n",
    "agent_config = load_agent_config(\"default\")\n",
    "radiology_agent_config = [config for config in agent_config if config[\"name\"] == \"Radiology\"][0]\n",
    "url = radiology_agent_config[\"hls_model_endpoint\"].get(\"cxr_report_gen\")\n",
    "patient_id = \"patient_4\"\n",
    "filename = \"x-ray.png\"\n",
    "\n",
    "kernel = Kernel()\n",
    "kernel.add_service(\n",
    "    AzureChatCompletion(\n",
    "        service_id=\"default\",\n",
    "        deployment_name=os.environ[\"AZURE_OPENAI_DEPLOYMENT_NAME\"],\n",
    "        api_version=\"2024-10-21\"\n",
    "    )\n",
    ")\n",
    "\n",
    "chat_ctx = ChatContext(\"test-conversation-id\")\n",
    "chat_ctx.patient_id = patient_id\n",
    "chat_ctx.patient_data = await data_access.image_accessor.get_metadata_list(patient_id)\n",
    "\n",
    "plugin_config = PluginConfiguration(\n",
    "    kernel=kernel,\n",
    "    chat_ctx=chat_ctx,\n",
    "    agent_config=radiology_agent_config,\n",
    "    data_access=data_access)\n",
    "\n",
    "cxr_report_gen_plugin = create_plugin(plugin_config)\n",
    "await cxr_report_gen_plugin.generate_findings(patient_id, filename, \"pneumonia\")"
   ]
  }
 ],
 "metadata": {
  "kernelspec": {
   "display_name": "",
   "language": "python",
   "name": "python3"
  },
  "language_info": {
   "codemirror_mode": {
    "name": "ipython",
    "version": 3
   },
   "file_extension": ".py",
   "mimetype": "text/x-python",
   "name": "python",
   "nbconvert_exporter": "python",
   "pygments_lexer": "ipython3",
   "version": "3.12.0"
  }
 },
 "nbformat": 4,
 "nbformat_minor": 2
}

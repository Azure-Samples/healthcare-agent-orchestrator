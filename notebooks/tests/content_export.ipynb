{
 "cells": [
  {
   "cell_type": "markdown",
   "metadata": {},
   "source": [
    "# Test Content Export Plugin\n",
    "\n",
    "This Jupyter notebook demonstrate how to test the content_export.py plugin. Running this notebook allows the code to be tested without deployment."
   ]
  },
  {
   "cell_type": "code",
   "execution_count": null,
   "metadata": {},
   "outputs": [],
   "source": [
    "import os\n",
    "import sys\n",
    "\n",
    "CUR_DIR = os.path.abspath(\"\")\n",
    "ROOT_DIR = os.path.dirname(os.path.dirname(CUR_DIR))\n",
    "SRC_DIR = os.path.join(ROOT_DIR, 'src')\n",
    "\n",
    "sys.path.append(SRC_DIR)\n",
    "print(f\"Added {SRC_DIR} to sys.path\")"
   ]
  },
  {
   "cell_type": "code",
   "execution_count": null,
   "metadata": {},
   "outputs": [],
   "source": [
    "from dotenv import load_dotenv\n",
    "\n",
    "load_dotenv(os.path.join(SRC_DIR, '.env'))"
   ]
  },
  {
   "cell_type": "code",
   "execution_count": null,
   "metadata": {},
   "outputs": [],
   "source": [
    "from app import create_app_context\n",
    "\n",
    "\n",
    "app_ctx = create_app_context()"
   ]
  },
  {
   "cell_type": "code",
   "execution_count": null,
   "metadata": {},
   "outputs": [],
   "source": [
    "from data_models.tumor_board_summary import ClinicalTrial\n",
    "\n",
    "\n",
    "doc_data = {\n",
    "    \"patient_gender\":\"Female\",\n",
    "    \"patient_age\":\"59\",\n",
    "    \"medical_history\":[\n",
    "        \"Initial chemotherapy with carboplatin and paclitaxel, followed by pembrolizumab.\",\n",
    "        \"Completed 6 cycles of carboplatin, paclitaxel, and pembrolizumab.\",\n",
    "        \"Maintenance therapy with pembrolizumab alone.\",\n",
    "        \"Planned switch to KRAS-directed therapy with adagrasib due to disease progression.\"\n",
    "    ],\n",
    "    \"social_history\":[],\n",
    "    \"cancer_type\":\"Stage IV non-small cell lung cancer, adenocarcinoma\",\n",
    "    \"ct_scan_findings\":[\n",
    "        \"The calculated tumor volume is 18,014 mm³.\",\n",
    "        \"The longest dimension of the lung mass is 919 mm.\"\n",
    "    ],\n",
    "    \"x_ray_findings\":[\n",
    "        \"Extensive thoracic and lumbar spinal fusion surgery is present.\",\n",
    "        \"There is a patchy opacity in the right lower lobe.\",\n",
    "        \"The left lung is clear.\",\n",
    "        \"The heart is normal in size.\",\n",
    "        \"No pneumothorax.\"\n",
    "    ],\n",
    "    \"pathology_findings\":[\n",
    "        \"The probability that the tumor is malignant is approximately 58.41%.\",\n",
    "        \"The probability that the tumor is non-malignant is approximately 41.59%.\"\n",
    "    ],\n",
    "    \"treatment_plan\":\"Start KRAS-directed treatment with adagrasib due to disease progression. Consider systemic therapy options such as docetaxel, pemetrexed, gemcitabine, or combinations if further progression occurs. Best supportive care if ECOG PS 3–4.\",\n",
    "    \"clinical_trials\":[\n",
    "        ClinicalTrial(\n",
    "            title=\"NCT05780307\",\n",
    "            summary=\"The patient is eligible for this trial. The trial requires patients to have advanced/metastatic solid tumors, an ECOG performance status of 0 or 1, and to have failed previous standard treatments. The patient meets these criteria, having completed standard first-line and second-line therapies and possessing a KRAS p.G12C mutation.\",\n",
    "            url=\"https://clinicaltrials.gov/ct2/show/NCT05780307\",\n",
    "        )\n",
    "    ]\n",
    "}"
   ]
  },
  {
   "cell_type": "code",
   "execution_count": null,
   "metadata": {},
   "outputs": [],
   "source": [
    "from semantic_kernel import Kernel\n",
    "from config import load_agent_config\n",
    "from data_models.chat_context import ChatContext\n",
    "from data_models.plugin_configuration import PluginConfiguration\n",
    "from semantic_kernel.connectors.ai.open_ai.services.azure_chat_completion import AzureChatCompletion\n",
    "\n",
    "\n",
    "patient_id = \"patient_4\"\n",
    "\n",
    "kernel = Kernel()\n",
    "kernel.add_service(\n",
    "    AzureChatCompletion(\n",
    "        service_id=\"default\",\n",
    "        deployment_name=os.environ[\"AZURE_OPENAI_DEPLOYMENT_NAME\"],\n",
    "        api_version=\"2024-10-21\"\n",
    "    )\n",
    ")\n",
    "\n",
    "chat_ctx = ChatContext(\"test-conversation-id\")\n",
    "chat_ctx.patient_id = patient_id\n",
    "chat_ctx.patient_data = await app_ctx.data_access.image_accessor.get_metadata_list(patient_id)\n",
    "\n",
    "agent_config = load_agent_config(\"default\")\n",
    "summary_agent_config = [config for config in agent_config if config[\"name\"] == \"ReportCreation\"][0]\n",
    "\n",
    "plugin_config = PluginConfiguration(\n",
    "    kernel=kernel,\n",
    "    chat_ctx=chat_ctx,\n",
    "    agent_config=summary_agent_config,\n",
    "    data_access=app_ctx.data_access,\n",
    "    azureml_token_provider=app_ctx.azureml_token_provider)"
   ]
  },
  {
   "cell_type": "markdown",
   "metadata": {},
   "source": [
    "## Create Patient Timeline"
   ]
  },
  {
   "cell_type": "code",
   "execution_count": null,
   "metadata": {},
   "outputs": [],
   "source": [
    "from scenarios.default.tools.patient_data import create_plugin\n",
    "\n",
    "patient_data_plugin = create_plugin(plugin_config)\n",
    "await patient_data_plugin.create_timeline(patient_id)"
   ]
  },
  {
   "cell_type": "markdown",
   "metadata": {},
   "source": [
    "## Export to Word Document"
   ]
  },
  {
   "cell_type": "code",
   "execution_count": null,
   "metadata": {},
   "outputs": [],
   "source": [
    "from scenarios.default.tools.content_export import create_plugin\n",
    "\n",
    "content_export_plugin = create_plugin(plugin_config)\n",
    "await content_export_plugin.export_to_word_doc(**doc_data)"
   ]
  }
 ],
 "metadata": {
  "kernelspec": {
   "display_name": ".venv",
   "language": "python",
   "name": "python3"
  },
  "language_info": {
   "codemirror_mode": {
    "name": "ipython",
    "version": 3
   },
   "file_extension": ".py",
   "mimetype": "text/x-python",
   "name": "python",
   "nbconvert_exporter": "python",
   "pygments_lexer": "ipython3",
   "version": "3.13.3"
  }
 },
 "nbformat": 4,
 "nbformat_minor": 2
}
